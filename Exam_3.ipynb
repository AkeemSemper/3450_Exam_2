{
 "cells": [
  {
   "cell_type": "code",
   "execution_count": 3,
   "metadata": {},
   "outputs": [],
   "source": [
    "import numpy as np\n",
    "import pandas as pd\n",
    "import math\n",
    "import thinkplot\n",
    "import thinkstats2\n",
    "import scipy.stats as ss\n",
    "import seaborn as sns\n",
    "from statsmodels.stats.power import TTestPower\n",
    "from sklearn.metrics import mean_squared_error\n",
    "powerTest = TTestPower()"
   ]
  },
  {
   "cell_type": "markdown",
   "metadata": {},
   "source": [
    "Please use this as your workbook for the exam. This does not need to be submitted in any way. Some usefull stuff is already setup, you can add more if needed. "
   ]
  },
  {
   "cell_type": "code",
   "execution_count": 5,
   "metadata": {},
   "outputs": [
    {
     "data": {
      "text/html": [
       "<div>\n",
       "<style scoped>\n",
       "    .dataframe tbody tr th:only-of-type {\n",
       "        vertical-align: middle;\n",
       "    }\n",
       "\n",
       "    .dataframe tbody tr th {\n",
       "        vertical-align: top;\n",
       "    }\n",
       "\n",
       "    .dataframe thead th {\n",
       "        text-align: right;\n",
       "    }\n",
       "</style>\n",
       "<table border=\"1\" class=\"dataframe\">\n",
       "  <thead>\n",
       "    <tr style=\"text-align: right;\">\n",
       "      <th></th>\n",
       "      <th>A</th>\n",
       "      <th>B</th>\n",
       "      <th>C</th>\n",
       "      <th>D</th>\n",
       "      <th>E</th>\n",
       "      <th>F</th>\n",
       "    </tr>\n",
       "  </thead>\n",
       "  <tbody>\n",
       "    <tr>\n",
       "      <th>0</th>\n",
       "      <td>44824.410025</td>\n",
       "      <td>59729.038820</td>\n",
       "      <td>52814.302256</td>\n",
       "      <td>39851.398343</td>\n",
       "      <td>51640.667644</td>\n",
       "      <td>55944.436857</td>\n",
       "    </tr>\n",
       "    <tr>\n",
       "      <th>1</th>\n",
       "      <td>49447.423320</td>\n",
       "      <td>43067.229558</td>\n",
       "      <td>45886.590668</td>\n",
       "      <td>68807.673950</td>\n",
       "      <td>52180.350169</td>\n",
       "      <td>69004.213544</td>\n",
       "    </tr>\n",
       "    <tr>\n",
       "      <th>2</th>\n",
       "      <td>38990.744148</td>\n",
       "      <td>45522.538305</td>\n",
       "      <td>62396.772090</td>\n",
       "      <td>46475.758680</td>\n",
       "      <td>53317.002918</td>\n",
       "      <td>76817.659334</td>\n",
       "    </tr>\n",
       "    <tr>\n",
       "      <th>3</th>\n",
       "      <td>45387.821273</td>\n",
       "      <td>57125.473593</td>\n",
       "      <td>39709.308913</td>\n",
       "      <td>51866.903548</td>\n",
       "      <td>55061.772830</td>\n",
       "      <td>65338.986982</td>\n",
       "    </tr>\n",
       "    <tr>\n",
       "      <th>4</th>\n",
       "      <td>66698.721551</td>\n",
       "      <td>43480.429622</td>\n",
       "      <td>55996.381027</td>\n",
       "      <td>43358.029026</td>\n",
       "      <td>43311.520309</td>\n",
       "      <td>64290.580055</td>\n",
       "    </tr>\n",
       "  </tbody>\n",
       "</table>\n",
       "</div>"
      ],
      "text/plain": [
       "              A             B             C             D             E  \\\n",
       "0  44824.410025  59729.038820  52814.302256  39851.398343  51640.667644   \n",
       "1  49447.423320  43067.229558  45886.590668  68807.673950  52180.350169   \n",
       "2  38990.744148  45522.538305  62396.772090  46475.758680  53317.002918   \n",
       "3  45387.821273  57125.473593  39709.308913  51866.903548  55061.772830   \n",
       "4  66698.721551  43480.429622  55996.381027  43358.029026  43311.520309   \n",
       "\n",
       "              F  \n",
       "0  55944.436857  \n",
       "1  69004.213544  \n",
       "2  76817.659334  \n",
       "3  65338.986982  \n",
       "4  64290.580055  "
      ]
     },
     "execution_count": 5,
     "metadata": {},
     "output_type": "execute_result"
    }
   ],
   "source": [
    "df = pd.read_csv(\"income.csv\")\n",
    "df = df.drop(columns={\"Unnamed: 0\"})\n",
    "df.head()"
   ]
  }
 ],
 "metadata": {
  "interpreter": {
   "hash": "31f2aee4e71d21fbe5cf8b01ff0e069b9275f58929596ceb00d14d90e3e16cd6"
  },
  "kernelspec": {
   "display_name": "Python 3.8.2 64-bit",
   "language": "python",
   "name": "python3"
  },
  "language_info": {
   "codemirror_mode": {
    "name": "ipython",
    "version": 3
   },
   "file_extension": ".py",
   "mimetype": "text/x-python",
   "name": "python",
   "nbconvert_exporter": "python",
   "pygments_lexer": "ipython3",
   "version": "3.8.11"
  },
  "orig_nbformat": 4
 },
 "nbformat": 4,
 "nbformat_minor": 2
}
